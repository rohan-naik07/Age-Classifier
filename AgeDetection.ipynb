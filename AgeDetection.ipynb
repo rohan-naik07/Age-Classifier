{
  "nbformat": 4,
  "nbformat_minor": 0,
  "metadata": {
    "colab": {
      "name": "AgeDetection",
      "provenance": []
    },
    "kernelspec": {
      "name": "python3",
      "display_name": "Python 3"
    }
  },
  "cells": [
    {
      "cell_type": "code",
      "metadata": {
        "id": "0FVMJE3Svqba",
        "colab_type": "code",
        "colab": {
          "base_uri": "https://localhost:8080/",
          "height": 34
        },
        "outputId": "d6635fc6-7ffb-46d0-a6e0-da45c48d7112"
      },
      "source": [
        "import os\n",
        "import pandas as pd\n",
        "import numpy as np\n",
        "import tensorflow as tf\n",
        "import zipfile\n",
        "os.getcwd()"
      ],
      "execution_count": 33,
      "outputs": [
        {
          "output_type": "execute_result",
          "data": {
            "text/plain": [
              "'/content'"
            ]
          },
          "metadata": {
            "tags": []
          },
          "execution_count": 33
        }
      ]
    },
    {
      "cell_type": "code",
      "metadata": {
        "id": "xmPv2PMC_IeT",
        "colab_type": "code",
        "colab": {}
      },
      "source": [
        "link='/content/train.csv'\n",
        "labels=pd.read_csv(link)\n",
        "classes=list(labels['Class'].unique())\n",
        "print(classes)\n",
        "d = dict(zip(classes, range(0,3)))\n",
        "labels['Class']=labels['Class'].map(d, na_action='ignore')\n",
        "ids=labels.drop('ID',axis=1)\n",
        "labels=labels.drop('ID',axis=1)\n",
        "labels.shape"
      ],
      "execution_count": 0,
      "outputs": []
    },
    {
      "cell_type": "code",
      "metadata": {
        "id": "jx3XxQJx6HgY",
        "colab_type": "code",
        "colab": {
          "base_uri": "https://localhost:8080/",
          "height": 121
        },
        "outputId": "04d06458-4bdb-4162-def5-a8e006cfb655"
      },
      "source": [
        "from google.colab import drive\n",
        "drive.mount('/content/drive')"
      ],
      "execution_count": 31,
      "outputs": [
        {
          "output_type": "stream",
          "text": [
            "Go to this URL in a browser: https://accounts.google.com/o/oauth2/auth?client_id=947318989803-6bn6qk8qdgf4n4g3pfee6491hc0brc4i.apps.googleusercontent.com&redirect_uri=urn%3aietf%3awg%3aoauth%3a2.0%3aoob&response_type=code&scope=email%20https%3a%2f%2fwww.googleapis.com%2fauth%2fdocs.test%20https%3a%2f%2fwww.googleapis.com%2fauth%2fdrive%20https%3a%2f%2fwww.googleapis.com%2fauth%2fdrive.photos.readonly%20https%3a%2f%2fwww.googleapis.com%2fauth%2fpeopleapi.readonly\n",
            "\n",
            "Enter your authorization code:\n",
            "··········\n",
            "Mounted at /content/drive\n"
          ],
          "name": "stdout"
        }
      ]
    },
    {
      "cell_type": "code",
      "metadata": {
        "id": "mF1Uumzv0T2A",
        "colab_type": "code",
        "colab": {}
      },
      "source": [
        "handle_train=zipfile.ZipFile(r'/content/Train.zip')\n",
        "handle_train.extractall('/content/train')\n",
        "handle_train.close()\n",
        "handle_test=zipfile.ZipFile(r'/content/Test.zip')\n",
        "handle_test.extractall('/content/test')\n",
        "handle_test.close()"
      ],
      "execution_count": 0,
      "outputs": []
    },
    {
      "cell_type": "code",
      "metadata": {
        "id": "PcY9YyXUHrVi",
        "colab_type": "code",
        "colab": {}
      },
      "source": [
        ""
      ],
      "execution_count": 0,
      "outputs": []
    }
  ]
}